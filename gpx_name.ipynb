{
 "cells": [
  {
   "cell_type": "code",
   "execution_count": 10,
   "metadata": {},
   "outputs": [
    {
     "ename": "TypeError",
     "evalue": "unsupported operand type(s) for /: 'NoneType' and 'int'",
     "output_type": "error",
     "traceback": [
      "\u001b[0;31m---------------------------------------------------------------------------\u001b[0m",
      "\u001b[0;31mTypeError\u001b[0m                                 Traceback (most recent call last)",
      "Cell \u001b[0;32mIn[10], line 32\u001b[0m\n\u001b[1;32m     30\u001b[0m \u001b[38;5;66;03m# Usage\u001b[39;00m\n\u001b[1;32m     31\u001b[0m gpx_file \u001b[38;5;241m=\u001b[39m \u001b[38;5;124m\"\u001b[39m\u001b[38;5;124mOtway UNBC PG.gpx\u001b[39m\u001b[38;5;124m\"\u001b[39m\n\u001b[0;32m---> 32\u001b[0m elevation_gain, total_distance, altitude_data, distance_data \u001b[38;5;241m=\u001b[39m \u001b[43mcalculate_elevation_gain_and_distance\u001b[49m\u001b[43m(\u001b[49m\u001b[43mgpx_file\u001b[49m\u001b[43m)\u001b[49m\n\u001b[1;32m     33\u001b[0m \u001b[38;5;28mprint\u001b[39m(\u001b[38;5;124m\"\u001b[39m\u001b[38;5;124mElevation Gain:\u001b[39m\u001b[38;5;124m\"\u001b[39m, elevation_gain)\n\u001b[1;32m     34\u001b[0m \u001b[38;5;28mprint\u001b[39m(\u001b[38;5;124m\"\u001b[39m\u001b[38;5;124mTotal Distance:\u001b[39m\u001b[38;5;124m\"\u001b[39m, total_distance)\n",
      "Cell \u001b[0;32mIn[10], line 24\u001b[0m, in \u001b[0;36mcalculate_elevation_gain_and_distance\u001b[0;34m(gpx_file)\u001b[0m\n\u001b[1;32m     22\u001b[0m                     elevation_gain \u001b[38;5;241m+\u001b[39m\u001b[38;5;241m=\u001b[39m point\u001b[38;5;241m.\u001b[39melevation \u001b[38;5;241m-\u001b[39m previous_point\u001b[38;5;241m.\u001b[39melevation\n\u001b[1;32m     23\u001b[0m             altitude_data\u001b[38;5;241m.\u001b[39mappend(point\u001b[38;5;241m.\u001b[39melevation)\n\u001b[0;32m---> 24\u001b[0m             \u001b[43mdistance_data\u001b[49m\u001b[38;5;241;43m.\u001b[39;49m\u001b[43mappend\u001b[49m\u001b[43m(\u001b[49m\u001b[43mtotal_distance\u001b[49m\u001b[43m)\u001b[49m\u001b[38;5;241;43m/\u001b[39;49m\u001b[38;5;241;43m1000\u001b[39;49m\n\u001b[1;32m     25\u001b[0m             previous_point \u001b[38;5;241m=\u001b[39m point\n\u001b[1;32m     27\u001b[0m \u001b[38;5;28;01mreturn\u001b[39;00m elevation_gain, total_distance, altitude_data, distance_data\n",
      "\u001b[0;31mTypeError\u001b[0m: unsupported operand type(s) for /: 'NoneType' and 'int'"
     ]
    }
   ],
   "source": [
    "import gpxpy\n",
    "import gpxpy.gpx\n",
    "import matplotlib.pyplot as plt\n",
    "import numpy as np\n",
    "\n",
    "\n",
    "def calculate_elevation_gain_and_distance(gpx_file):\n",
    "    gpx = gpxpy.parse(open(gpx_file, \"r\"))\n",
    "\n",
    "    elevation_gain = 0\n",
    "    total_distance = 0\n",
    "    altitude_data = []\n",
    "    distance_data = []\n",
    "\n",
    "    for track in gpx.tracks:\n",
    "        for segment in track.segments:\n",
    "            previous_point = None\n",
    "            for point in segment.points:\n",
    "                if previous_point is not None:\n",
    "                    total_distance += point.distance_2d(previous_point)/1000\n",
    "                    if point.elevation > previous_point.elevation:\n",
    "                        elevation_gain += point.elevation - previous_point.elevation\n",
    "                altitude_data.append(point.elevation)\n",
    "                distance_data.append(total_distance)\n",
    "                previous_point = point\n",
    "\n",
    "    return elevation_gain, total_distance, altitude_data, distance_data\n",
    "\n",
    "\n",
    "# Usage\n",
    "gpx_file = \"Otway UNBC PG.gpx\"\n",
    "elevation_gain, total_distance, altitude_data, distance_data = calculate_elevation_gain_and_distance(gpx_file)\n",
    "print(\"Elevation Gain:\", elevation_gain)\n",
    "print(\"Total Distance:\", total_distance)\n",
    "\n",
    "# Plotting altitude vs distance\n",
    "plt.figure(figsize=(10, 6))\n",
    "plt.plot(distance_data, altitude_data, color='blue')\n",
    "plt.title('Altitude vs Distance')\n",
    "plt.xlabel('Distance (km)')\n",
    "plt.ylabel('Altitude (m)')\n",
    "plt.grid(True)\n",
    "plt.show()\n"
   ]
  },
  {
   "cell_type": "code",
   "execution_count": null,
   "metadata": {},
   "outputs": [
    {
     "ename": "NameError",
     "evalue": "name 'gpx' is not defined",
     "output_type": "error",
     "traceback": [
      "\u001b[0;31m---------------------------------------------------------------------------\u001b[0m",
      "\u001b[0;31mNameError\u001b[0m                                 Traceback (most recent call last)",
      "Cell \u001b[0;32mIn[9], line 4\u001b[0m\n\u001b[1;32m      1\u001b[0m \u001b[38;5;28;01mimport\u001b[39;00m \u001b[38;5;21;01mfolium\u001b[39;00m\n\u001b[1;32m      3\u001b[0m \u001b[38;5;66;03m# Create a map centered around the first point in the GPX file\u001b[39;00m\n\u001b[0;32m----> 4\u001b[0m map_route \u001b[38;5;241m=\u001b[39m folium\u001b[38;5;241m.\u001b[39mMap(location\u001b[38;5;241m=\u001b[39m[\u001b[43mgpx\u001b[49m\u001b[38;5;241m.\u001b[39mtracks[\u001b[38;5;241m0\u001b[39m]\u001b[38;5;241m.\u001b[39msegments[\u001b[38;5;241m0\u001b[39m]\u001b[38;5;241m.\u001b[39mpoints[\u001b[38;5;241m0\u001b[39m]\u001b[38;5;241m.\u001b[39mlatitude, gpx\u001b[38;5;241m.\u001b[39mtracks[\u001b[38;5;241m0\u001b[39m]\u001b[38;5;241m.\u001b[39msegments[\u001b[38;5;241m0\u001b[39m]\u001b[38;5;241m.\u001b[39mpoints[\u001b[38;5;241m0\u001b[39m]\u001b[38;5;241m.\u001b[39mlongitude],\n\u001b[1;32m      5\u001b[0m                         zoom_start\u001b[38;5;241m=\u001b[39m\u001b[38;5;241m12\u001b[39m)\n\u001b[1;32m      7\u001b[0m \u001b[38;5;66;03m# Add a line to the map representing the route\u001b[39;00m\n\u001b[1;32m      8\u001b[0m route_line \u001b[38;5;241m=\u001b[39m folium\u001b[38;5;241m.\u001b[39mPolyLine(locations\u001b[38;5;241m=\u001b[39m[(point\u001b[38;5;241m.\u001b[39mlatitude, point\u001b[38;5;241m.\u001b[39mlongitude) \u001b[38;5;28;01mfor\u001b[39;00m point \u001b[38;5;129;01min\u001b[39;00m gpx\u001b[38;5;241m.\u001b[39mtracks[\u001b[38;5;241m0\u001b[39m]\u001b[38;5;241m.\u001b[39msegments[\u001b[38;5;241m0\u001b[39m]\u001b[38;5;241m.\u001b[39mpoints],\n\u001b[1;32m      9\u001b[0m                               color\u001b[38;5;241m=\u001b[39m\u001b[38;5;124m'\u001b[39m\u001b[38;5;124mblue\u001b[39m\u001b[38;5;124m'\u001b[39m)\n",
      "\u001b[0;31mNameError\u001b[0m: name 'gpx' is not defined"
     ]
    }
   ],
   "source": [
    "import folium\n",
    "\n",
    "# Create a map centered around the first point in the GPX file\n",
    "map_route = folium.Map(location=[gpx.tracks[0].segments[0].points[0].latitude, gpx.tracks[0].segments[0].points[0].longitude],\n",
    "                        zoom_start=12)\n",
    "\n",
    "# Add a line to the map representing the route\n",
    "route_line = folium.PolyLine(locations=[(point.latitude, point.longitude) for point in gpx.tracks[0].segments[0].points],\n",
    "                              color='blue')\n",
    "map_route.add_child(route_line)\n",
    "\n",
    "# Save the map to an HTML file\n",
    "map_route.save(\"route_map.html\")\n"
   ]
  }
 ],
 "metadata": {
  "kernelspec": {
   "display_name": "Python 3",
   "language": "python",
   "name": "python3"
  },
  "language_info": {
   "codemirror_mode": {
    "name": "ipython",
    "version": 3
   },
   "file_extension": ".py",
   "mimetype": "text/x-python",
   "name": "python",
   "nbconvert_exporter": "python",
   "pygments_lexer": "ipython3",
   "version": "3.11.1"
  }
 },
 "nbformat": 4,
 "nbformat_minor": 2
}
